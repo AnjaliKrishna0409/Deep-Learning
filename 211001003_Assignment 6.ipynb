{
 "cells": [
  {
   "cell_type": "code",
   "execution_count": 1,
   "id": "77fac7a5-157c-40a2-a828-36305d4eaeec",
   "metadata": {},
   "outputs": [],
   "source": [
    "import sys\n",
    "\n",
    "# Specify the path you want to add\n",
    "new_path = r'C:\\ProgramData\\anaconda3\\virtual-AnjaliProject\\Lib\\site-packages'\n",
    "\n",
    "# Add the path to sys.path if it's not already there\n",
    "if new_path not in sys.path:\n",
    "    sys.path.append(new_path)"
   ]
  },
  {
   "cell_type": "code",
   "execution_count": 2,
   "id": "e514ba63-cb5a-4f65-90c3-03224b44ded3",
   "metadata": {},
   "outputs": [
    {
     "name": "stderr",
     "output_type": "stream",
     "text": [
      "C:\\ProgramData\\anaconda3\\virtual-AnjaliProject\\Lib\\site-packages\\keras\\src\\layers\\convolutional\\base_conv.py:107: UserWarning: Do not pass an `input_shape`/`input_dim` argument to a layer. When using Sequential models, prefer using an `Input(shape)` object as the first layer in the model instead.\n",
      "  super().__init__(activity_regularizer=activity_regularizer, **kwargs)\n"
     ]
    },
    {
     "name": "stdout",
     "output_type": "stream",
     "text": [
      "Epoch 1/5\n",
      "\u001b[1m1563/1563\u001b[0m \u001b[32m━━━━━━━━━━━━━━━━━━━━\u001b[0m\u001b[37m\u001b[0m \u001b[1m152s\u001b[0m 94ms/step - accuracy: 0.7079 - loss: 0.8758 - val_accuracy: 0.8643 - val_loss: 0.3762\n",
      "Epoch 2/5\n",
      "\u001b[1m1563/1563\u001b[0m \u001b[32m━━━━━━━━━━━━━━━━━━━━\u001b[0m\u001b[37m\u001b[0m \u001b[1m151s\u001b[0m 97ms/step - accuracy: 0.8710 - loss: 0.3699 - val_accuracy: 0.8854 - val_loss: 0.3109\n",
      "Epoch 3/5\n",
      "\u001b[1m1563/1563\u001b[0m \u001b[32m━━━━━━━━━━━━━━━━━━━━\u001b[0m\u001b[37m\u001b[0m \u001b[1m148s\u001b[0m 94ms/step - accuracy: 0.8935 - loss: 0.3051 - val_accuracy: 0.8968 - val_loss: 0.2861\n",
      "Epoch 4/5\n",
      "\u001b[1m1563/1563\u001b[0m \u001b[32m━━━━━━━━━━━━━━━━━━━━\u001b[0m\u001b[37m\u001b[0m \u001b[1m150s\u001b[0m 96ms/step - accuracy: 0.9058 - loss: 0.2703 - val_accuracy: 0.8993 - val_loss: 0.3015\n",
      "Epoch 5/5\n",
      "\u001b[1m1563/1563\u001b[0m \u001b[32m━━━━━━━━━━━━━━━━━━━━\u001b[0m\u001b[37m\u001b[0m \u001b[1m143s\u001b[0m 92ms/step - accuracy: 0.9175 - loss: 0.2356 - val_accuracy: 0.9074 - val_loss: 0.2640\n",
      "\u001b[1m313/313\u001b[0m \u001b[32m━━━━━━━━━━━━━━━━━━━━\u001b[0m\u001b[37m\u001b[0m \u001b[1m8s\u001b[0m 27ms/step - accuracy: 0.9078 - loss: 0.2851\n",
      "Test accuracy: 0.90829998254776, Test loss: 0.2773084342479706\n",
      "\u001b[1m1/1\u001b[0m \u001b[32m━━━━━━━━━━━━━━━━━━━━\u001b[0m\u001b[37m\u001b[0m \u001b[1m0s\u001b[0m 219ms/step\n",
      "Accuracy on the first 20 examples: 0.949999988079071\n"
     ]
    }
   ],
   "source": [
    "import tensorflow as tf\n",
    "from tensorflow.keras.layers import Conv2D, MaxPooling2D, Flatten, Dense, Dropout\n",
    "from tensorflow.keras.models import Sequential\n",
    "\n",
    "# Ensure reproducibility\n",
    "tf.random.set_seed(123)\n",
    "\n",
    "# Load the data\n",
    "mnist = tf.keras.datasets.fashion_mnist\n",
    "(X_train_full, y_train_full), (X_test, y_test) = mnist.load_data()\n",
    "\n",
    "# Normalize the pixel values to be between 0 and 1\n",
    "X_train_full = X_train_full.astype('float32') / 255.0\n",
    "X_test = X_test.astype('float32') / 255.0\n",
    "\n",
    "# Reshape the data to add a single channel (grayscale)\n",
    "X_train_full = X_train_full[..., tf.newaxis]\n",
    "X_test = X_test[..., tf.newaxis]\n",
    "\n",
    "# Split the full training data into training and validation sets\n",
    "X_train, X_val = X_train_full[:50000], X_train_full[50000:]\n",
    "y_train, y_val = y_train_full[:50000], y_train_full[50000:]\n",
    "# Define the model\n",
    "model = Sequential([\n",
    "    # First layer\n",
    "    Conv2D(64, kernel_size=7, padding='same', activation='relu', kernel_initializer='he_normal', input_shape=(28, 28, 1)),\n",
    "    MaxPooling2D(),\n",
    "    \n",
    "    # Second layer\n",
    "    Conv2D(128, kernel_size=3, padding='same', activation='relu', kernel_initializer='he_normal'),\n",
    "    Conv2D(128, kernel_size=3, padding='same', activation='relu', kernel_initializer='he_normal'),\n",
    "    MaxPooling2D(),\n",
    "    \n",
    "    # Third layer\n",
    "    Conv2D(256, kernel_size=3, padding='same', activation='relu', kernel_initializer='he_normal'),\n",
    "    Conv2D(256, kernel_size=3, padding='same', activation='relu', kernel_initializer='he_normal'),\n",
    "    MaxPooling2D(),\n",
    "    \n",
    "    # Flatten and dense layers\n",
    "    Flatten(),\n",
    "    Dense(128, activation='relu', kernel_initializer='he_normal'),\n",
    "    Dense(64, activation='relu', kernel_initializer='he_normal'),\n",
    "    Dropout(0.5),\n",
    "    Dense(10, activation='softmax')\n",
    "])\n",
    "# Compile the model\n",
    "model.compile(loss='sparse_categorical_crossentropy', optimizer='nadam', metrics=['accuracy'])\n",
    "\n",
    "# Train the model\n",
    "history = model.fit(X_train, y_train, epochs=5, validation_data=(X_val, y_val))\n",
    "# Evaluate the model on the test data\n",
    "test_loss, test_acc = model.evaluate(X_test, y_test)\n",
    "print(f'Test accuracy: {test_acc}, Test loss: {test_loss}')\n",
    "# Test the model on the first 20 examples of the test data\n",
    "predictions = model.predict(X_test[:20])\n",
    "predicted_labels = tf.argmax(predictions, axis=1)\n",
    "actual_labels = y_test[:20]\n",
    "\n",
    "# Calculate accuracy on the first 20 examples\n",
    "accuracy_20 = tf.reduce_mean(tf.cast(predicted_labels == actual_labels, tf.float32)).numpy()\n",
    "print(f'Accuracy on the first 20 examples: {accuracy_20}')"
   ]
  },
  {
   "cell_type": "code",
   "execution_count": null,
   "id": "dcba441f-fe98-4d93-8323-052c37842ea8",
   "metadata": {},
   "outputs": [],
   "source": []
  }
 ],
 "metadata": {
  "kernelspec": {
   "display_name": "Python 3 (ipykernel)",
   "language": "python",
   "name": "python3"
  },
  "language_info": {
   "codemirror_mode": {
    "name": "ipython",
    "version": 3
   },
   "file_extension": ".py",
   "mimetype": "text/x-python",
   "name": "python",
   "nbconvert_exporter": "python",
   "pygments_lexer": "ipython3",
   "version": "3.11.7"
  }
 },
 "nbformat": 4,
 "nbformat_minor": 5
}
